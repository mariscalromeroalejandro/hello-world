{
  "cells": [
    {
      "cell_type": "markdown",
      "metadata": {
        "id": "SfrCxTeAhU7L"
      },
      "source": [
        "The next cell downloads the required data set to carry out the workshop. This kind of code works on Google Colab, and if you are using another platform to run the notebook, you might need to manually download the data directory from the GitHub repository and put it in the same path as the notebook file."
      ]
    },
    {
      "cell_type": "code",
      "execution_count": 1,
      "metadata": {
        "id": "sS2OY_GehU7N",
        "outputId": "318d0226-a6a1-4466-c6a5-fb1f812b9773",
        "colab": {
          "base_uri": "https://localhost:8080/"
        }
      },
      "outputs": [
        {
          "output_type": "stream",
          "name": "stdout",
          "text": [
            "  % Total    % Received % Xferd  Average Speed   Time    Time     Time  Current\n",
            "                                 Dload  Upload   Total   Spent    Left  Speed\n",
            "100  497k  100  497k    0     0  1281k      0 --:--:-- --:--:-- --:--:-- 1280k\n"
          ]
        }
      ],
      "source": [
        "!curl https://raw.githubusercontent.com/APSV-UPM/BusinessIntelligence/main/data/data.csv > data.csv"
      ]
    },
    {
      "cell_type": "markdown",
      "metadata": {
        "id": "gWX01Av_hU7O"
      },
      "source": [
        "In this workshop, we will work with a data set representing a logistics process. These data contain events from a logistics process in which a series of goods or items are transported from one station to another by train. It is based on a real-world process, but it has been simplified to make it easier to work with.\n",
        "Each step in the process is represented by an event, and the events have a timestamp that represents when the event was recorded. The types of events appear in Spanish; the following table is a translation of these into English.\n",
        "\n",
        "Spanish | English\n",
        "---|---\n",
        "'Comienzo de ruta'         | 'START OF ROUTE'\n",
        "'Descarga de vagones'      | 'END OF WAGON UNLOADING'\n",
        "'Final carga'     | 'END OF WAGON LOADING'\n",
        "'Final de ruta'  | 'END OF ROUTE'\n",
        "'Llegada de vagones'          | 'ARRIVAL OF WAGGONS TO DESTINATION'\n",
        "'Salida de vagones'             | 'DEPARTURE OF WAGONS FROM ORIGIN'\n",
        "\n",
        "Our goal is to obtain as much information as we can from this data set. We will achieve this in two ways: we will answer questions with numeric values (e.g., how many trains take part in the process?) or we will generate some charts to present information in a visual way (e.g. how is the distribution of items transported throughout the year?)\n"
      ]
    },
    {
      "cell_type": "code",
      "execution_count": 2,
      "metadata": {
        "id": "hDLwrTqhhU7P"
      },
      "outputs": [],
      "source": [
        "import pandas as pd\n",
        "import matplotlib.pyplot as plt\n",
        "import seaborn as sns\n",
        "df = pd.read_csv(\"data.csv\")"
      ]
    },
    {
      "cell_type": "markdown",
      "metadata": {
        "id": "Tyuqsj_phU7P"
      },
      "source": [
        "# Dataset exploration\n",
        "Any project related to data analysis starts with a study of the data itself.\n",
        "* What kind of data do we have?\n",
        "* How is it organized? How many columns does each dataframe have?\n",
        "* Are there wrong or missing values?\n",
        "* What does each value of a column mean? How many different values are there in each column?\n",
        "\n",
        "With the examples we saw in the previous workshop we try to answer those questions."
      ]
    },
    {
      "cell_type": "code",
      "execution_count": 3,
      "metadata": {
        "id": "M8xsvjUghU7Q",
        "outputId": "89dbdf5e-080f-4c0d-d7d7-002cb6b476e9",
        "colab": {
          "base_uri": "https://localhost:8080/",
          "height": 397
        }
      },
      "outputs": [
        {
          "output_type": "execute_result",
          "data": {
            "text/plain": [
              "   Unnamed: 0   trip_id train_id                 date  cargo station_id  \\\n",
              "0           0  3ETLZUNS    SOMEB  2022-01-03 10:00:00      0  station_A   \n",
              "1           1  HPHSNXSQ    SOMEB  2022-08-09 10:00:00      0  station_A   \n",
              "2           2  W8P43R8F    JITAR  2022-12-09 10:00:00      0  station_A   \n",
              "3           3  NCHNTWP7    JITAR  2022-06-09 10:00:00      0  station_A   \n",
              "4           4  HHS92FIV    JITAR  2022-02-17 10:00:00      0  station_A   \n",
              "\n",
              "              event  ended  \n",
              "0  Comienzo de ruta   True  \n",
              "1  Comienzo de ruta   True  \n",
              "2  Comienzo de ruta   True  \n",
              "3  Comienzo de ruta   True  \n",
              "4  Comienzo de ruta   True  "
            ],
            "text/html": [
              "\n",
              "  <div id=\"df-6692ad37-32e9-4b9d-99cf-5989f113315d\" class=\"colab-df-container\">\n",
              "    <div>\n",
              "<style scoped>\n",
              "    .dataframe tbody tr th:only-of-type {\n",
              "        vertical-align: middle;\n",
              "    }\n",
              "\n",
              "    .dataframe tbody tr th {\n",
              "        vertical-align: top;\n",
              "    }\n",
              "\n",
              "    .dataframe thead th {\n",
              "        text-align: right;\n",
              "    }\n",
              "</style>\n",
              "<table border=\"1\" class=\"dataframe\">\n",
              "  <thead>\n",
              "    <tr style=\"text-align: right;\">\n",
              "      <th></th>\n",
              "      <th>Unnamed: 0</th>\n",
              "      <th>trip_id</th>\n",
              "      <th>train_id</th>\n",
              "      <th>date</th>\n",
              "      <th>cargo</th>\n",
              "      <th>station_id</th>\n",
              "      <th>event</th>\n",
              "      <th>ended</th>\n",
              "    </tr>\n",
              "  </thead>\n",
              "  <tbody>\n",
              "    <tr>\n",
              "      <th>0</th>\n",
              "      <td>0</td>\n",
              "      <td>3ETLZUNS</td>\n",
              "      <td>SOMEB</td>\n",
              "      <td>2022-01-03 10:00:00</td>\n",
              "      <td>0</td>\n",
              "      <td>station_A</td>\n",
              "      <td>Comienzo de ruta</td>\n",
              "      <td>True</td>\n",
              "    </tr>\n",
              "    <tr>\n",
              "      <th>1</th>\n",
              "      <td>1</td>\n",
              "      <td>HPHSNXSQ</td>\n",
              "      <td>SOMEB</td>\n",
              "      <td>2022-08-09 10:00:00</td>\n",
              "      <td>0</td>\n",
              "      <td>station_A</td>\n",
              "      <td>Comienzo de ruta</td>\n",
              "      <td>True</td>\n",
              "    </tr>\n",
              "    <tr>\n",
              "      <th>2</th>\n",
              "      <td>2</td>\n",
              "      <td>W8P43R8F</td>\n",
              "      <td>JITAR</td>\n",
              "      <td>2022-12-09 10:00:00</td>\n",
              "      <td>0</td>\n",
              "      <td>station_A</td>\n",
              "      <td>Comienzo de ruta</td>\n",
              "      <td>True</td>\n",
              "    </tr>\n",
              "    <tr>\n",
              "      <th>3</th>\n",
              "      <td>3</td>\n",
              "      <td>NCHNTWP7</td>\n",
              "      <td>JITAR</td>\n",
              "      <td>2022-06-09 10:00:00</td>\n",
              "      <td>0</td>\n",
              "      <td>station_A</td>\n",
              "      <td>Comienzo de ruta</td>\n",
              "      <td>True</td>\n",
              "    </tr>\n",
              "    <tr>\n",
              "      <th>4</th>\n",
              "      <td>4</td>\n",
              "      <td>HHS92FIV</td>\n",
              "      <td>JITAR</td>\n",
              "      <td>2022-02-17 10:00:00</td>\n",
              "      <td>0</td>\n",
              "      <td>station_A</td>\n",
              "      <td>Comienzo de ruta</td>\n",
              "      <td>True</td>\n",
              "    </tr>\n",
              "  </tbody>\n",
              "</table>\n",
              "</div>\n",
              "    <div class=\"colab-df-buttons\">\n",
              "\n",
              "  <div class=\"colab-df-container\">\n",
              "    <button class=\"colab-df-convert\" onclick=\"convertToInteractive('df-6692ad37-32e9-4b9d-99cf-5989f113315d')\"\n",
              "            title=\"Convert this dataframe to an interactive table.\"\n",
              "            style=\"display:none;\">\n",
              "\n",
              "  <svg xmlns=\"http://www.w3.org/2000/svg\" height=\"24px\" viewBox=\"0 -960 960 960\">\n",
              "    <path d=\"M120-120v-720h720v720H120Zm60-500h600v-160H180v160Zm220 220h160v-160H400v160Zm0 220h160v-160H400v160ZM180-400h160v-160H180v160Zm440 0h160v-160H620v160ZM180-180h160v-160H180v160Zm440 0h160v-160H620v160Z\"/>\n",
              "  </svg>\n",
              "    </button>\n",
              "\n",
              "  <style>\n",
              "    .colab-df-container {\n",
              "      display:flex;\n",
              "      gap: 12px;\n",
              "    }\n",
              "\n",
              "    .colab-df-convert {\n",
              "      background-color: #E8F0FE;\n",
              "      border: none;\n",
              "      border-radius: 50%;\n",
              "      cursor: pointer;\n",
              "      display: none;\n",
              "      fill: #1967D2;\n",
              "      height: 32px;\n",
              "      padding: 0 0 0 0;\n",
              "      width: 32px;\n",
              "    }\n",
              "\n",
              "    .colab-df-convert:hover {\n",
              "      background-color: #E2EBFA;\n",
              "      box-shadow: 0px 1px 2px rgba(60, 64, 67, 0.3), 0px 1px 3px 1px rgba(60, 64, 67, 0.15);\n",
              "      fill: #174EA6;\n",
              "    }\n",
              "\n",
              "    .colab-df-buttons div {\n",
              "      margin-bottom: 4px;\n",
              "    }\n",
              "\n",
              "    [theme=dark] .colab-df-convert {\n",
              "      background-color: #3B4455;\n",
              "      fill: #D2E3FC;\n",
              "    }\n",
              "\n",
              "    [theme=dark] .colab-df-convert:hover {\n",
              "      background-color: #434B5C;\n",
              "      box-shadow: 0px 1px 3px 1px rgba(0, 0, 0, 0.15);\n",
              "      filter: drop-shadow(0px 1px 2px rgba(0, 0, 0, 0.3));\n",
              "      fill: #FFFFFF;\n",
              "    }\n",
              "  </style>\n",
              "\n",
              "    <script>\n",
              "      const buttonEl =\n",
              "        document.querySelector('#df-6692ad37-32e9-4b9d-99cf-5989f113315d button.colab-df-convert');\n",
              "      buttonEl.style.display =\n",
              "        google.colab.kernel.accessAllowed ? 'block' : 'none';\n",
              "\n",
              "      async function convertToInteractive(key) {\n",
              "        const element = document.querySelector('#df-6692ad37-32e9-4b9d-99cf-5989f113315d');\n",
              "        const dataTable =\n",
              "          await google.colab.kernel.invokeFunction('convertToInteractive',\n",
              "                                                    [key], {});\n",
              "        if (!dataTable) return;\n",
              "\n",
              "        const docLinkHtml = 'Like what you see? Visit the ' +\n",
              "          '<a target=\"_blank\" href=https://colab.research.google.com/notebooks/data_table.ipynb>data table notebook</a>'\n",
              "          + ' to learn more about interactive tables.';\n",
              "        element.innerHTML = '';\n",
              "        dataTable['output_type'] = 'display_data';\n",
              "        await google.colab.output.renderOutput(dataTable, element);\n",
              "        const docLink = document.createElement('div');\n",
              "        docLink.innerHTML = docLinkHtml;\n",
              "        element.appendChild(docLink);\n",
              "      }\n",
              "    </script>\n",
              "  </div>\n",
              "\n",
              "\n",
              "<div id=\"df-3fa0dc06-a189-459a-9a08-cc10f0f60fd7\">\n",
              "  <button class=\"colab-df-quickchart\" onclick=\"quickchart('df-3fa0dc06-a189-459a-9a08-cc10f0f60fd7')\"\n",
              "            title=\"Suggest charts.\"\n",
              "            style=\"display:none;\">\n",
              "\n",
              "<svg xmlns=\"http://www.w3.org/2000/svg\" height=\"24px\"viewBox=\"0 0 24 24\"\n",
              "     width=\"24px\">\n",
              "    <g>\n",
              "        <path d=\"M19 3H5c-1.1 0-2 .9-2 2v14c0 1.1.9 2 2 2h14c1.1 0 2-.9 2-2V5c0-1.1-.9-2-2-2zM9 17H7v-7h2v7zm4 0h-2V7h2v10zm4 0h-2v-4h2v4z\"/>\n",
              "    </g>\n",
              "</svg>\n",
              "  </button>\n",
              "\n",
              "<style>\n",
              "  .colab-df-quickchart {\n",
              "      --bg-color: #E8F0FE;\n",
              "      --fill-color: #1967D2;\n",
              "      --hover-bg-color: #E2EBFA;\n",
              "      --hover-fill-color: #174EA6;\n",
              "      --disabled-fill-color: #AAA;\n",
              "      --disabled-bg-color: #DDD;\n",
              "  }\n",
              "\n",
              "  [theme=dark] .colab-df-quickchart {\n",
              "      --bg-color: #3B4455;\n",
              "      --fill-color: #D2E3FC;\n",
              "      --hover-bg-color: #434B5C;\n",
              "      --hover-fill-color: #FFFFFF;\n",
              "      --disabled-bg-color: #3B4455;\n",
              "      --disabled-fill-color: #666;\n",
              "  }\n",
              "\n",
              "  .colab-df-quickchart {\n",
              "    background-color: var(--bg-color);\n",
              "    border: none;\n",
              "    border-radius: 50%;\n",
              "    cursor: pointer;\n",
              "    display: none;\n",
              "    fill: var(--fill-color);\n",
              "    height: 32px;\n",
              "    padding: 0;\n",
              "    width: 32px;\n",
              "  }\n",
              "\n",
              "  .colab-df-quickchart:hover {\n",
              "    background-color: var(--hover-bg-color);\n",
              "    box-shadow: 0 1px 2px rgba(60, 64, 67, 0.3), 0 1px 3px 1px rgba(60, 64, 67, 0.15);\n",
              "    fill: var(--button-hover-fill-color);\n",
              "  }\n",
              "\n",
              "  .colab-df-quickchart-complete:disabled,\n",
              "  .colab-df-quickchart-complete:disabled:hover {\n",
              "    background-color: var(--disabled-bg-color);\n",
              "    fill: var(--disabled-fill-color);\n",
              "    box-shadow: none;\n",
              "  }\n",
              "\n",
              "  .colab-df-spinner {\n",
              "    border: 2px solid var(--fill-color);\n",
              "    border-color: transparent;\n",
              "    border-bottom-color: var(--fill-color);\n",
              "    animation:\n",
              "      spin 1s steps(1) infinite;\n",
              "  }\n",
              "\n",
              "  @keyframes spin {\n",
              "    0% {\n",
              "      border-color: transparent;\n",
              "      border-bottom-color: var(--fill-color);\n",
              "      border-left-color: var(--fill-color);\n",
              "    }\n",
              "    20% {\n",
              "      border-color: transparent;\n",
              "      border-left-color: var(--fill-color);\n",
              "      border-top-color: var(--fill-color);\n",
              "    }\n",
              "    30% {\n",
              "      border-color: transparent;\n",
              "      border-left-color: var(--fill-color);\n",
              "      border-top-color: var(--fill-color);\n",
              "      border-right-color: var(--fill-color);\n",
              "    }\n",
              "    40% {\n",
              "      border-color: transparent;\n",
              "      border-right-color: var(--fill-color);\n",
              "      border-top-color: var(--fill-color);\n",
              "    }\n",
              "    60% {\n",
              "      border-color: transparent;\n",
              "      border-right-color: var(--fill-color);\n",
              "    }\n",
              "    80% {\n",
              "      border-color: transparent;\n",
              "      border-right-color: var(--fill-color);\n",
              "      border-bottom-color: var(--fill-color);\n",
              "    }\n",
              "    90% {\n",
              "      border-color: transparent;\n",
              "      border-bottom-color: var(--fill-color);\n",
              "    }\n",
              "  }\n",
              "</style>\n",
              "\n",
              "  <script>\n",
              "    async function quickchart(key) {\n",
              "      const quickchartButtonEl =\n",
              "        document.querySelector('#' + key + ' button');\n",
              "      quickchartButtonEl.disabled = true;  // To prevent multiple clicks.\n",
              "      quickchartButtonEl.classList.add('colab-df-spinner');\n",
              "      try {\n",
              "        const charts = await google.colab.kernel.invokeFunction(\n",
              "            'suggestCharts', [key], {});\n",
              "      } catch (error) {\n",
              "        console.error('Error during call to suggestCharts:', error);\n",
              "      }\n",
              "      quickchartButtonEl.classList.remove('colab-df-spinner');\n",
              "      quickchartButtonEl.classList.add('colab-df-quickchart-complete');\n",
              "    }\n",
              "    (() => {\n",
              "      let quickchartButtonEl =\n",
              "        document.querySelector('#df-3fa0dc06-a189-459a-9a08-cc10f0f60fd7 button');\n",
              "      quickchartButtonEl.style.display =\n",
              "        google.colab.kernel.accessAllowed ? 'block' : 'none';\n",
              "    })();\n",
              "  </script>\n",
              "</div>\n",
              "    </div>\n",
              "  </div>\n"
            ]
          },
          "metadata": {},
          "execution_count": 3
        }
      ],
      "source": [
        "df.head()"
      ]
    },
    {
      "cell_type": "code",
      "execution_count": null,
      "metadata": {
        "scrolled": true,
        "id": "THcQOXVbhU7Q"
      },
      "outputs": [],
      "source": [
        "df.event.describe()"
      ]
    },
    {
      "cell_type": "code",
      "execution_count": null,
      "metadata": {
        "id": "C8cZwZqUhU7R"
      },
      "outputs": [],
      "source": [
        "df.info(show_counts=True)"
      ]
    },
    {
      "cell_type": "code",
      "execution_count": null,
      "metadata": {
        "id": "8f73RupwhU7R"
      },
      "outputs": [],
      "source": [
        "df.describe()"
      ]
    },
    {
      "cell_type": "code",
      "execution_count": null,
      "metadata": {
        "id": "CFQyU6TxhU7S"
      },
      "outputs": [],
      "source": [
        "# Use as many cells as you need for your exploration"
      ]
    },
    {
      "cell_type": "markdown",
      "metadata": {
        "id": "yD1y1ts7hU7S"
      },
      "source": [
        "# Data Cleaning\n",
        "After a first view of the data and before starting to work with it, we must clean it. This process is called preprocessing, and it is crucial to be able to obtain good results. We will discard invalid data, fill missing values, drop redundant information, correct typos, etc. We need to create a data set with the following restrictions.\n",
        "\n",
        "* All columns must contain relevant information. If a column does not contain relevant information, it should be removed using the method `data.drop(columns = [column_name])` (https://pandas.pydata.org/docs/reference/api/pandas.DataFrame.drop.html)\n",
        "* Duplicate rows should be removed using the method `data.drop_duplicates()` (https://pandas.pydata.org/docs/reference/api/pandas.DataFrame.drop_duplicates.html)\n",
        "* Rows with null or incorrect values should be discarded (https://pandas.pydata.org/pandas-docs/stable/user_guide/missing_data.html). This includes rows with illegal values acording the dataset description (e.g. a negative number of items).\n",
        "* The types of the columns must correspond to the type of data they contain (https://pandas.pydata.org/pandas-docs/stable/reference/api/pandas.DataFrame.astype.html)\n",
        "\n",
        "Python and Pandas have a multitude of methods that make it easier to work with dates. In this workshop can be useful those that allow us to obtain certain fragments of a date (hour of day, the day of the week, etc.) https://docs.python.org/3/library/datetime.html. An effective way to apply a change to an entire column is with a syntax like `df.date.dt.hour`, which allows us to get the hour of the dates in the column `date`"
      ]
    },
    {
      "cell_type": "code",
      "execution_count": null,
      "metadata": {
        "id": "JAw58WV0hU7T"
      },
      "outputs": [],
      "source": [
        "# Write your code here"
      ]
    },
    {
      "cell_type": "markdown",
      "metadata": {
        "id": "u0CObQYrhU7T"
      },
      "source": [
        "# Data Analytics\n",
        "\n",
        "Once we know about the data that we are using and have cleaned it, we need to ask what kind of useful information we can extract from those data. It is a good idea to make a kind of brainstorming of possible questions, then take the list of resulting questions and sort them by their difficulty, and finally begin to answer them starting with the easiest ones. For this session, that process has already been done for you, and the questions are already sorted by difficulty. In some cases, the answer to a question can be obtained from a graphic, so use them to your advantage.\n",
        "\n",
        "Those questions are grouped into 10 blocks. All questions in a block can be solved using the same strategy; e.g., to answer \"What was the maximum number of packages transported in a train?\" or \"What was the minimum number of packages transported in a train?\", we will make the same process, but changing the function that we apply to the data. Your task is to answer at least one question in each block. At the end of the workshop session, you will fill out a Moodle questionnaire with 10 questions, one for each block."
      ]
    },
    {
      "cell_type": "markdown",
      "metadata": {
        "id": "vbsScdtzhU7T"
      },
      "source": [
        "## Block 1\n",
        "- How many records (rows) are there in the dataset?\n",
        "- How many columns are there in the dataset?"
      ]
    },
    {
      "cell_type": "code",
      "execution_count": 6,
      "metadata": {
        "id": "3Q2KUpBUhU7T",
        "outputId": "1fbf35fa-abc9-4d20-a184-3b5246bb8f35",
        "colab": {
          "base_uri": "https://localhost:8080/"
        }
      },
      "outputs": [
        {
          "output_type": "stream",
          "name": "stdout",
          "text": [
            "Número de filas: 6731\n",
            "Número columnas:  8\n"
          ]
        }
      ],
      "source": [
        "df.drop_duplicates()\n",
        "num_filas = len(df)  # Calcula el número de filas en el DataFrame\n",
        "print(\"Número de filas:\", num_filas)  # Imprime el número de filas\n",
        "\n",
        "num_col = len(df.columns)\n",
        "print(\"Número columnas: \", num_col)\n"
      ]
    },
    {
      "cell_type": "markdown",
      "metadata": {
        "id": "IJOfXOHghU7T"
      },
      "source": [
        "## Block 2\n",
        "- How many trains are there in the dataset?\n",
        "- How many stations are there in the dataset?\n",
        "- How many trips are there in the dataset?"
      ]
    },
    {
      "cell_type": "code",
      "execution_count": 8,
      "metadata": {
        "id": "C2tsnu15hU7T",
        "outputId": "dc524f3b-6704-4c7e-b9fe-ac0c431d9722",
        "colab": {
          "base_uri": "https://localhost:8080/"
        }
      },
      "outputs": [
        {
          "output_type": "stream",
          "name": "stdout",
          "text": [
            "Número de trenes distintos en el dataset: 3\n",
            "Número de estaciones distintas en el dataset: 7\n",
            "Número de viajes (trips) distintos en el dataset: 309\n"
          ]
        }
      ],
      "source": [
        "num_trenes_distintos = df['train_id'].nunique()\n",
        "print(\"Número de trenes distintos en el dataset:\", num_trenes_distintos)\n",
        "num_estaciones_distintas = df['station_id'].nunique()\n",
        "print(\"Número de estaciones distintas en el dataset:\", num_estaciones_distintas)\n",
        "num_trips_distintos = df['trip_id'].nunique()\n",
        "print(\"Número de viajes (trips) distintos en el dataset:\", num_trips_distintos)\n",
        "\n"
      ]
    },
    {
      "cell_type": "markdown",
      "metadata": {
        "id": "N9lFOtdkhU7U"
      },
      "source": [
        "## Block 3\n",
        "- How many packages were transported in total?\n",
        "- What was the maximum number of packages transported in any single train?\n",
        "- What was the minimum number of packages transported in any single train?\n",
        "- What was the average number of packages transported in any single train?"
      ]
    },
    {
      "cell_type": "code",
      "execution_count": 12,
      "metadata": {
        "id": "ALUTc-9ohU7U",
        "outputId": "2ed093bc-f178-4dd1-a690-a94f7b7eb4aa",
        "colab": {
          "base_uri": "https://localhost:8080/"
        }
      },
      "outputs": [
        {
          "output_type": "execute_result",
          "data": {
            "text/plain": [
              "0"
            ]
          },
          "metadata": {},
          "execution_count": 12
        }
      ],
      "source": [
        "df_sin_duplicados = df.drop_duplicates(subset='trip_id')\n",
        "df_sin_duplicados['cargo'].sum()\n"
      ]
    },
    {
      "cell_type": "markdown",
      "metadata": {
        "id": "0trkjKxehU7U"
      },
      "source": [
        "## Block 4\n",
        "- Which train transported the most packages?\n",
        "- Which train transported the fewest packages?\n",
        "- Which train made the most trips?\n",
        "- Which train made the fewest trips?"
      ]
    },
    {
      "cell_type": "code",
      "execution_count": null,
      "metadata": {
        "id": "E0ObV7CShU7U"
      },
      "outputs": [],
      "source": [
        "# Write your code here"
      ]
    },
    {
      "cell_type": "markdown",
      "metadata": {
        "id": "ow9oh3WehU7U"
      },
      "source": [
        "## Block 5\n",
        "- How many trips were made (started) in January?\n",
        "- How many trips were made (started) on Mondays?"
      ]
    },
    {
      "cell_type": "code",
      "execution_count": null,
      "metadata": {
        "id": "c44Gq2SThU7U"
      },
      "outputs": [],
      "source": [
        "# Write your code here"
      ]
    },
    {
      "cell_type": "markdown",
      "metadata": {
        "id": "WhVL8aFkhU7U"
      },
      "source": [
        "## Block 6\n",
        "- How long did the shortest trip last?\n",
        "- How long did the longest trip last?\n",
        "- What is the average trip duration?"
      ]
    },
    {
      "cell_type": "code",
      "execution_count": null,
      "metadata": {
        "id": "yw3CAJ84hU7U"
      },
      "outputs": [],
      "source": [
        "# Write your code here"
      ]
    },
    {
      "cell_type": "markdown",
      "metadata": {
        "id": "yRgPqI0ZhU7U"
      },
      "source": [
        "## Block 7\n",
        "- Which is the fastest train?\n",
        "- Which is the slowest train?"
      ]
    },
    {
      "cell_type": "code",
      "execution_count": null,
      "metadata": {
        "id": "E2kgnZdKhU7U"
      },
      "outputs": [],
      "source": [
        "# Write your code here"
      ]
    },
    {
      "cell_type": "markdown",
      "metadata": {
        "id": "FAvWy1xohU7V"
      },
      "source": [
        "## Block 8\n",
        "- How many packages, in total, were received at station X?\n",
        "- What was the average number of packages received in one delivery at station X?\n",
        "- What was the maximum number of packages received in one delivery at station X?\n",
        "- What was the minimum number of packages received in one delivery at station X?"
      ]
    },
    {
      "cell_type": "code",
      "execution_count": null,
      "metadata": {
        "id": "r5H82IOhhU7V"
      },
      "outputs": [],
      "source": [
        "# Write your code here"
      ]
    },
    {
      "cell_type": "markdown",
      "metadata": {
        "id": "w-oHnyiKhU7V"
      },
      "source": [
        "## Block 9\n",
        "- What is the average time to load a package on a train?\n",
        "- What is the average time to unload a package from a train?"
      ]
    },
    {
      "cell_type": "code",
      "execution_count": null,
      "metadata": {
        "id": "FYDGtARehU7V"
      },
      "outputs": [],
      "source": [
        "# Write your code here"
      ]
    },
    {
      "cell_type": "markdown",
      "metadata": {
        "id": "l43nXL9UhU7V"
      },
      "source": [
        "## Block 10\n",
        "- What was the average duration of a trip from station X to station Y?\n",
        "- What was the maximum duration of a trip from station X to station Y?\n",
        "- What was the minimum duration of a trip from station X to station Y?"
      ]
    },
    {
      "cell_type": "code",
      "execution_count": null,
      "metadata": {
        "id": "ktyGgsAmhU7V"
      },
      "outputs": [],
      "source": [
        "# Write your code here"
      ]
    }
  ],
  "metadata": {
    "kernelspec": {
      "display_name": "Python 3.9.7 64-bit",
      "language": "python",
      "name": "python3"
    },
    "language_info": {
      "codemirror_mode": {
        "name": "ipython",
        "version": 3
      },
      "file_extension": ".py",
      "mimetype": "text/x-python",
      "name": "python",
      "nbconvert_exporter": "python",
      "pygments_lexer": "ipython3",
      "version": "3.10.6"
    },
    "vscode": {
      "interpreter": {
        "hash": "c0de1fe606f85d3f2aa9a903f2b0bf89b43d937b91ee737bd06cf0188ff610aa"
      }
    },
    "colab": {
      "provenance": []
    }
  },
  "nbformat": 4,
  "nbformat_minor": 0
}